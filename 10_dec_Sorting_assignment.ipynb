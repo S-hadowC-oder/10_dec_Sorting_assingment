{
 "cells": [
  {
   "cell_type": "code",
   "execution_count": 1,
   "id": "4a934477-c97b-46dd-8c53-5331254fa540",
   "metadata": {},
   "outputs": [
    {
     "name": "stdout",
     "output_type": "stream",
     "text": [
      "The element that appears most frequently is: 3\n"
     ]
    }
   ],
   "source": [
    "#problem 1.Given an array of n numbers, give an algorithm which gives the element appearing maximum\n",
    "# number of times?\n",
    "def find_most_frequent_element(arr):\n",
    "    frequency = {}  # Step 1: Create an empty dictionary\n",
    "\n",
    "    # Step 2: Count the frequency of each element\n",
    "    for num in arr:\n",
    "        if num in frequency:\n",
    "            frequency[num] += 1\n",
    "        else:\n",
    "            frequency[num] = 1\n",
    "\n",
    "    # Step 3: Find the element with the maximum frequency\n",
    "    max_count = 0\n",
    "    most_frequent_element = None\n",
    "    for num, count in frequency.items():\n",
    "        if count > max_count:\n",
    "            max_count = count\n",
    "            most_frequent_element = num\n",
    "\n",
    "    return most_frequent_element  # Step 4: Return the most frequent element\n",
    "\n",
    "# Example usage:\n",
    "arr = [1, 3, 2, 1, 4, 1, 2, 3, 3, 3]\n",
    "result = find_most_frequent_element(arr)\n",
    "print(f\"The element that appears most frequently is: {result}\")\n"
   ]
  },
  {
   "cell_type": "code",
   "execution_count": 2,
   "id": "b97b42ba-5730-4640-977f-4384d2b0a573",
   "metadata": {},
   "outputs": [
    {
     "name": "stdout",
     "output_type": "stream",
     "text": [
      "The missing number is: 5\n"
     ]
    }
   ],
   "source": [
    "# Problem 2 : We are given a list of n-1 integers and these integers are in the range of 1 to n . There are no\n",
    "# duplicates in the list. One of the integers is missing in the list. Give an algorithm to find that element Ex:\n",
    "# [1,2,4,6,3,7,8] 5 is the missing num.\n",
    "def find_missing_number(arr, n):\n",
    "    # Step 1: Calculate the expected sum of the first n natural numbers\n",
    "    expected_sum = n * (n + 1) // 2\n",
    "    \n",
    "    # Step 2: Calculate the actual sum of the elements in the array\n",
    "    actual_sum = sum(arr)\n",
    "    \n",
    "    # Step 3: The missing number is the difference between the expected sum and actual sum\n",
    "    missing_number = expected_sum - actual_sum\n",
    "    \n",
    "    return missing_number\n",
    "\n",
    "# Example usage:\n",
    "arr = [1, 2, 4, 6, 3, 7, 8]\n",
    "n = 8  # Since we expect numbers from 1 to 8\n",
    "result = find_missing_number(arr, n)\n",
    "print(f\"The missing number is: {result}\")\n"
   ]
  },
  {
   "cell_type": "code",
   "execution_count": 3,
   "id": "d8f19ac9-1e9a-415c-b708-d27a82823ace",
   "metadata": {},
   "outputs": [
    {
     "name": "stdout",
     "output_type": "stream",
     "text": [
      "The number that occurs odd number of times is: 3\n"
     ]
    }
   ],
   "source": [
    "# Problem 3 : Given an array of n positive numbers. All numbers occurs even number of times except 1 which\n",
    "# occurs odd number of times. Find that number in O(n) time and O(1) space. Ex: [1,2,3,2,3,1,3]. 3 is repeats odd, provide code\n",
    "def find_odd_occurrence(arr):\n",
    "    result = 0\n",
    "    \n",
    "    # XOR all elements together\n",
    "    for num in arr:\n",
    "        result ^= num\n",
    "    \n",
    "    return result\n",
    "\n",
    "# Example usage:\n",
    "arr = [1, 2, 3, 2, 3, 1, 3]\n",
    "result = find_odd_occurrence(arr)\n",
    "print(f\"The number that occurs odd number of times is: {result}\")\n"
   ]
  },
  {
   "cell_type": "code",
   "execution_count": 4,
   "id": "5c121af7-36e3-47c4-b83d-2ad737940fb0",
   "metadata": {},
   "outputs": [
    {
     "name": "stdout",
     "output_type": "stream",
     "text": [
      "Pair found: (2, 7)\n"
     ]
    }
   ],
   "source": [
    "# Problem 4 : Given an array of n elements. Find two elements in the array such that their sum is equal to given element K. provide code\n",
    "def find_pair_with_sum(arr, K):\n",
    "    seen = {}  # Step 1: Initialize the dictionary\n",
    "\n",
    "    # Step 2: Iterate through the array\n",
    "    for i, num in enumerate(arr):\n",
    "        complement = K - num  # Calculate the complement\n",
    "\n",
    "        # Check if the complement exists in the dictionary\n",
    "        if complement in seen:\n",
    "            return (complement, num)  # Return the pair\n",
    "\n",
    "        # Store the current number in the dictionary\n",
    "        seen[num] = i\n",
    "\n",
    "    # Step 3: If no pair is found, return None or a message\n",
    "    return None\n",
    "\n",
    "# Example usage:\n",
    "arr = [10, 2, 3, 7, 5]\n",
    "K = 9\n",
    "result = find_pair_with_sum(arr, K)\n",
    "if result:\n",
    "    print(f\"Pair found: {result}\")\n",
    "else:\n",
    "    print(\"No pair found that sums to K.\")\n"
   ]
  },
  {
   "cell_type": "code",
   "execution_count": 5,
   "id": "5bc0c8a5-f654-47c3-82c3-70ed2d8a250c",
   "metadata": {},
   "outputs": [
    {
     "name": "stdout",
     "output_type": "stream",
     "text": [
      "The pair whose sum is closest to zero is: (-80, 85)\n"
     ]
    }
   ],
   "source": [
    "# Problem 5 : Given an array of both positive and negative numbers, find two numbers such that their \n",
    "# sum is closest to 0. Ex: [ 1 ,60 ,-10, 70, -80,85]. Ans : -80,85. provide code\n",
    "def find_closest_sum_pair(arr):\n",
    "    # Step 1: Sort the array\n",
    "    arr.sort()\n",
    "    \n",
    "    # Step 2: Initialize two pointers\n",
    "    left = 0\n",
    "    right = len(arr) - 1\n",
    "    \n",
    "    # Track the smallest absolute sum and the corresponding pair\n",
    "    min_sum = float('inf')\n",
    "    min_pair = (None, None)\n",
    "    \n",
    "    # Step 3: Move the pointers to find the closest sum to zero\n",
    "    while left < right:\n",
    "        current_sum = arr[left] + arr[right]\n",
    "        \n",
    "        # If the current sum is closer to zero, update min_sum and min_pair\n",
    "        if abs(current_sum) < abs(min_sum):\n",
    "            min_sum = current_sum\n",
    "            min_pair = (arr[left], arr[right])\n",
    "        \n",
    "        # Step 4: Move the pointers\n",
    "        if current_sum < 0:\n",
    "            left += 1  # Increase the sum by moving the left pointer to the right\n",
    "        else:\n",
    "            right -= 1  # Decrease the sum by moving the right pointer to the left\n",
    "    \n",
    "    return min_pair\n",
    "\n",
    "# Example usage:\n",
    "arr = [1, 60, -10, 70, -80, 85]\n",
    "result = find_closest_sum_pair(arr)\n",
    "print(f\"The pair whose sum is closest to zero is: {result}\")\n"
   ]
  },
  {
   "cell_type": "code",
   "execution_count": 6,
   "id": "e724a794-6c63-4f8b-bc16-41e60ec75611",
   "metadata": {},
   "outputs": [
    {
     "name": "stdout",
     "output_type": "stream",
     "text": [
      "Triplet found: (4, 8, 10)\n"
     ]
    }
   ],
   "source": [
    "# Problem 6 : Given an array of n elements . Find three elements such that their sum is equal to the given\n",
    "# number. provide code\n",
    "def find_three_numbers_sum(arr, K):\n",
    "    # Step 1: Sort the array\n",
    "    arr.sort()\n",
    "    n = len(arr)\n",
    "    \n",
    "    # Step 2: Iterate through the array\n",
    "    for i in range(n - 2):\n",
    "        left = i + 1\n",
    "        right = n - 1\n",
    "        \n",
    "        # Step 3: Use two pointers to find the other two elements\n",
    "        while left < right:\n",
    "            current_sum = arr[i] + arr[left] + arr[right]\n",
    "            \n",
    "            if current_sum == K:\n",
    "                return (arr[i], arr[left], arr[right])\n",
    "            \n",
    "            elif current_sum < K:\n",
    "                left += 1  # Move the left pointer to the right\n",
    "            else:\n",
    "                right -= 1  # Move the right pointer to the left\n",
    "    \n",
    "    # If no triplet is found\n",
    "    return None\n",
    "\n",
    "# Example usage:\n",
    "arr = [1, 4, 45, 6, 10, 8]\n",
    "K = 22\n",
    "result = find_three_numbers_sum(arr, K)\n",
    "if result:\n",
    "    print(f\"Triplet found: {result}\")\n",
    "else:\n",
    "    print(\"No triplet found that sums to K.\")\n"
   ]
  },
  {
   "cell_type": "code",
   "execution_count": 7,
   "id": "dc8a916e-2fbb-42b9-a709-d095a2cfcd93",
   "metadata": {},
   "outputs": [
    {
     "name": "stdout",
     "output_type": "stream",
     "text": [
      "Pythagorean triplet found: (3, 4, 5)\n"
     ]
    }
   ],
   "source": [
    "# Problem 7 : Given an array of n elements . Find three elements i, j, k in the array such that\n",
    "# i * i + j * j = k*k. provide code\n",
    "def find_pythagorean_triplet(arr):\n",
    "    n = len(arr)\n",
    "    \n",
    "    # Step 1: Square all elements and store them in a dictionary\n",
    "    squared_arr = [x * x for x in arr]\n",
    "    \n",
    "    # Step 2: Sort the squared array\n",
    "    squared_arr.sort()\n",
    "    \n",
    "    # Step 3: Iterate over the array to find the triplet\n",
    "    for k in range(n - 1, 1, -1):  # k starts from the end\n",
    "        left = 0\n",
    "        right = k - 1\n",
    "        \n",
    "        # Step 4: Use two pointers to find i^2 + j^2 = k^2\n",
    "        while left < right:\n",
    "            if squared_arr[left] + squared_arr[right] == squared_arr[k]:\n",
    "                i = int(squared_arr[left]**0.5)\n",
    "                j = int(squared_arr[right]**0.5)\n",
    "                k = int(squared_arr[k]**0.5)\n",
    "                return (i, j, k)\n",
    "            \n",
    "            elif squared_arr[left] + squared_arr[right] < squared_arr[k]:\n",
    "                left += 1  # Move the left pointer to the right\n",
    "            else:\n",
    "                right -= 1  # Move the right pointer to the left\n",
    "    \n",
    "    # If no triplet is found\n",
    "    return None\n",
    "\n",
    "# Example usage:\n",
    "arr = [3, 1, 4, 6, 5]\n",
    "result = find_pythagorean_triplet(arr)\n",
    "if result:\n",
    "    print(f\"Pythagorean triplet found: {result}\")\n",
    "else:\n",
    "    print(\"No Pythagorean triplet found.\")\n"
   ]
  },
  {
   "cell_type": "code",
   "execution_count": 8,
   "id": "517222b4-e12a-4d02-bfac-c24a539b5bc2",
   "metadata": {},
   "outputs": [
    {
     "name": "stdout",
     "output_type": "stream",
     "text": [
      "Majority element found: 2\n"
     ]
    }
   ],
   "source": [
    "# Problem 8 : An element is a majority if it appears more than n/2 times. Give an algorithm takes an array of n element \n",
    "# as argument and identifies a majority (if it exists). provide code\n",
    "def find_majority_element(arr):\n",
    "    n = len(arr)\n",
    "    \n",
    "    # Step 1: First pass to find a potential candidate\n",
    "    candidate = None\n",
    "    count = 0\n",
    "    \n",
    "    for num in arr:\n",
    "        if count == 0:\n",
    "            candidate = num\n",
    "            count = 1\n",
    "        elif num == candidate:\n",
    "            count += 1\n",
    "        else:\n",
    "            count -= 1\n",
    "    \n",
    "    # Step 2: Second pass to confirm the candidate\n",
    "    if candidate is not None:\n",
    "        count = 0\n",
    "        for num in arr:\n",
    "            if num == candidate:\n",
    "                count += 1\n",
    "        \n",
    "        if count > n // 2:\n",
    "            return candidate\n",
    "    \n",
    "    return None\n",
    "\n",
    "# Example usage:\n",
    "arr = [2, 2, 1, 1, 2, 2, 2]\n",
    "result = find_majority_element(arr)\n",
    "if result:\n",
    "    print(f\"Majority element found: {result}\")\n",
    "else:\n",
    "    print(\"No majority element found.\")\n"
   ]
  },
  {
   "cell_type": "code",
   "execution_count": 9,
   "id": "db274b2c-f061-450a-bf3d-74397c6eec56",
   "metadata": {},
   "outputs": [
    {
     "name": "stdout",
     "output_type": "stream",
     "text": [
      "The row with the maximum number of zeros is: Row 2\n"
     ]
    }
   ],
   "source": [
    "# Problem 9 : Given n × n matrix, and in each row all 1’s are followed by 0’s. Find the row with the maximum number of 0’s. provide code\n",
    "def find_row_with_max_zeros(matrix):\n",
    "    n = len(matrix)\n",
    "    max_zeros_row = 0\n",
    "    j = n - 1  # Start from the last column\n",
    "\n",
    "    for i in range(n):\n",
    "        # Move left in the current row while we encounter 0's\n",
    "        while j >= 0 and matrix[i][j] == 0:\n",
    "            j -= 1\n",
    "            max_zeros_row = i  # Update the row with the maximum zeros\n",
    "\n",
    "    return max_zeros_row\n",
    "\n",
    "# Example usage:\n",
    "matrix = [\n",
    "    [1, 1, 0, 0],\n",
    "    [1, 1, 1, 0],\n",
    "    [1, 0, 0, 0],\n",
    "    [1, 1, 1, 1]\n",
    "]\n",
    "\n",
    "result = find_row_with_max_zeros(matrix)\n",
    "print(f\"The row with the maximum number of zeros is: Row {result}\")\n"
   ]
  },
  {
   "cell_type": "code",
   "execution_count": 10,
   "id": "cd214775-4934-4785-8225-d104d66db923",
   "metadata": {},
   "outputs": [
    {
     "name": "stdout",
     "output_type": "stream",
     "text": [
      "Sorted array: [0, 0, 0, 0, 0, 1, 1, 1, 1, 1, 2, 2]\n"
     ]
    }
   ],
   "source": [
    "# Problem 10 : Sort an array of 0’s, 1’s and 2’s [or R’s, G’s and B’s]: Given an array A[] consisting of 0’s, 1’s and 2’s, g\n",
    "# ive an algorithm for sorting A[].The algorithm should put all 0’s first, then all 1’s and finally all 2’s at the end. \n",
    "# Example Input = {0,1,1,0,1,2,1,2,0,0,0,1}, Output = {0,0,0,0,0,1,1,1,1,1,2,2} provide code\n",
    "def sort_012(arr):\n",
    "    low = 0\n",
    "    mid = 0\n",
    "    high = len(arr) - 1\n",
    "\n",
    "    # Process elements\n",
    "    while mid <= high:\n",
    "        if arr[mid] == 0:\n",
    "            # Swap arr[low] and arr[mid] and move both pointers\n",
    "            arr[low], arr[mid] = arr[mid], arr[low]\n",
    "            low += 1\n",
    "            mid += 1\n",
    "        elif arr[mid] == 1:\n",
    "            # Move to the next element\n",
    "            mid += 1\n",
    "        else:  # arr[mid] == 2\n",
    "            # Swap arr[mid] and arr[high] and move the high pointer\n",
    "            arr[high], arr[mid] = arr[mid], arr[high]\n",
    "            high -= 1\n",
    "\n",
    "# Example usage:\n",
    "arr = [0, 1, 1, 0, 1, 2, 1, 2, 0, 0, 0, 1]\n",
    "sort_012(arr)\n",
    "print(f\"Sorted array: {arr}\")\n"
   ]
  },
  {
   "cell_type": "code",
   "execution_count": null,
   "id": "173e4aa7-feb7-49ea-afd2-312d1db94a62",
   "metadata": {},
   "outputs": [],
   "source": []
  }
 ],
 "metadata": {
  "kernelspec": {
   "display_name": "Python 3 (ipykernel)",
   "language": "python",
   "name": "python3"
  },
  "language_info": {
   "codemirror_mode": {
    "name": "ipython",
    "version": 3
   },
   "file_extension": ".py",
   "mimetype": "text/x-python",
   "name": "python",
   "nbconvert_exporter": "python",
   "pygments_lexer": "ipython3",
   "version": "3.10.8"
  }
 },
 "nbformat": 4,
 "nbformat_minor": 5
}
